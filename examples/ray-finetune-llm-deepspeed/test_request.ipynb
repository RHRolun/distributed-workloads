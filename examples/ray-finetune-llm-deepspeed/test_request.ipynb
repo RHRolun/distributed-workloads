{
 "cells": [
  {
   "cell_type": "code",
   "execution_count": null,
   "id": "859d98de-8a8a-4166-8651-0ac96b6dd27b",
   "metadata": {
    "tags": []
   },
   "outputs": [],
   "source": [
    "import requests"
   ]
  },
  {
   "cell_type": "code",
   "execution_count": null,
   "id": "23f3a75d-7f6d-4fcd-ad67-11d8ac57f7e1",
   "metadata": {
    "tags": []
   },
   "outputs": [],
   "source": [
    "url = \"https://your-endpoint\""
   ]
  },
  {
   "cell_type": "code",
   "execution_count": null,
   "id": "f62da28f-1b98-40d7-bc22-4adc8c20892b",
   "metadata": {
    "tags": []
   },
   "outputs": [],
   "source": [
    "prompt=\"\"\"\n",
    "Below is an instruction that describes a task. Write a response that appropriately completes the request. ### Instruction: Why is water blue? ### Response:\n",
    "\"\"\""
   ]
  },
  {
   "cell_type": "code",
   "execution_count": null,
   "id": "d3518c4a-3206-41b4-b509-b22234fda143",
   "metadata": {
    "tags": []
   },
   "outputs": [],
   "source": [
    "obj = {\"prompt\": prompt, \"model\":\"llama2-7b-finetuned\"}\n",
    "print(requests.post(f\"{url}/v1/completions\", json=obj, verify=False).text)"
   ]
  }
 ],
 "metadata": {
  "kernelspec": {
   "display_name": "Python 3.9",
   "language": "python",
   "name": "python3"
  },
  "language_info": {
   "codemirror_mode": {
    "name": "ipython",
    "version": 3
   },
   "file_extension": ".py",
   "mimetype": "text/x-python",
   "name": "python",
   "nbconvert_exporter": "python",
   "pygments_lexer": "ipython3",
   "version": "3.9.16"
  }
 },
 "nbformat": 4,
 "nbformat_minor": 5
}
